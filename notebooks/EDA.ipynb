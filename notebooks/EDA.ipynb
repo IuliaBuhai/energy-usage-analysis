{
 "cells": [
  {
   "cell_type": "code",
   "execution_count": null,
   "metadata": {
    "vscode": {
     "languageId": "plaintext"
    }
   },
   "outputs": [],
   "source": [
    "import pandas as pd\n",
    "from data_cleaning import clean_data\n",
    "from analysis import compute_statistics, compute_avg_kwh_per_community\n",
    "from visualizations import plot_histogram, plot_heatmap, plot_total_kwh_by_month, plot_avg_kwh_per_community, plot_boxplot\n",
    "\n",
    "# Load data\n",
    "df = pd.read_csv('Energy_Usage_2010.csv')\n",
    "\n",
    "# Clean data\n",
    "df_cleaned = clean_data(df)\n",
    "\n",
    "# Compute statistics\n",
    "statistics = compute_statistics(df_cleaned)\n",
    "print(statistics)\n",
    "\n",
    "# Compute average KWH per community\n",
    "avg_kwh_per_community = compute_avg_kwh_per_community(df_cleaned)\n",
    "print(avg_kwh_per_community)\n",
    "\n",
    "# Visualizations\n",
    "plot_histogram(df_cleaned)\n",
    "plot_heatmap(df_cleaned)\n",
    "plot_total_kwh_by_month(df_cleaned)\n",
    "plot_avg_kwh_per_community(avg_kwh_per_community)\n",
    "plot_boxplot(df_cleaned)\n"
   ]
  }
 ],
 "metadata": {
  "language_info": {
   "name": "python"
  }
 },
 "nbformat": 4,
 "nbformat_minor": 2
}
